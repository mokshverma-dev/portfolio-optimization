{
 "cells": [
  {
   "cell_type": "code",
   "execution_count": 87,
   "id": "ad7fd626",
   "metadata": {},
   "outputs": [],
   "source": [
    "import numpy as np\n",
    "import pandas as pd\n",
    "from scipy.optimize import minimize"
   ]
  },
  {
   "cell_type": "code",
   "execution_count": 88,
   "id": "19ed400b",
   "metadata": {},
   "outputs": [
    {
     "data": {
      "text/plain": [
       "dtype('float64')"
      ]
     },
     "execution_count": 88,
     "metadata": {},
     "output_type": "execute_result"
    }
   ],
   "source": [
    "# Replace 'filename.csv' with the path to your CSV file\n",
    "niftybees_history = '300000/Equity_etf/NIFTYBES_Historical_PR_08062022to08062025.csv'\n",
    "\n",
    "# Read the CSV file into a DataFrame\n",
    "niftybees = pd.read_csv(niftybees_history)\n",
    "\n",
    "# Print the DataFrame\n",
    "niftybees = niftybees['Open']\n",
    "\n",
    "# ---------------------------------------------\n",
    "\n",
    "# Replace 'filename.csv' with the path to your CSV file\n",
    "bankbees_history = '300000/Equity_etf/BANKBES Historical Data.csv'\n",
    "\n",
    "# Read the CSV file into a DataFrame\n",
    "bankbees = pd.read_csv(bankbees_history)\n",
    "\n",
    "# Print the DataFrame\n",
    "bankbees = bankbees['Open']\n",
    "\n",
    "# ---------------------------------------------\n",
    "\n",
    "# Replace 'filename.csv' with the path to your CSV file\n",
    "goldbees_history = '300000/Equity_etf/GBES Historical Data.csv'\n",
    "\n",
    "# Read the CSV file into a DataFrame\n",
    "goldbees = pd.read_csv(goldbees_history)\n",
    "\n",
    "# Print the DataFrame\n",
    "goldbees = goldbees['Open']\n",
    "\n",
    "# ---------------------------------------------\n",
    "\n",
    "# Replace 'filename.csv' with the path to your CSV file\n",
    "silverbees_history = '300000/Equity_etf/SILBES Historical Data.csv'\n",
    "\n",
    "# Read the CSV file into a DataFrame\n",
    "silverbees = pd.read_csv(silverbees_history)\n",
    "\n",
    "# Print the DataFrame\n",
    "silverbees = silverbees['Open']\n",
    "\n",
    "# ---------------------------------------------\n",
    "\n",
    "# Replace 'filename.csv' with the path to your CSV file\n",
    "itbees_history = '300000/Equity_etf/ITBES Historical Data.csv'\n",
    "\n",
    "# Read the CSV file into a DataFrame\n",
    "itbees = pd.read_csv(itbees_history)\n",
    "\n",
    "# Print the DataFrame\n",
    "itbees = itbees['Open']\n",
    "\n",
    "# ---------------------------------------------\n",
    "\n",
    "# Replace 'filename.csv' with the path to your CSV file\n",
    "mon100_history = '300000/Equity_etf/MON100 Historical Data.csv'\n",
    "\n",
    "# Read the CSV file into a DataFrame\n",
    "mon100 = pd.read_csv(mon100_history)\n",
    "\n",
    "# Print the DataFrame\n",
    "mon100 = mon100['Open']\n",
    "\n",
    "# ---------------------------------------------\n",
    "\n",
    "# Replace 'filename.csv' with the path to your CSV file\n",
    "hngsngbees_history = '300000/Equity_etf/HNGSBES Historical Data.csv'\n",
    "\n",
    "# Read the CSV file into a DataFrame\n",
    "hngsngbees = pd.read_csv(hngsngbees_history)\n",
    "\n",
    "# Print the DataFrame\n",
    "hngsngbees = hngsngbees['Open']\n",
    "\n",
    "hngsngbees.dtype"
   ]
  },
  {
   "cell_type": "code",
   "execution_count": 89,
   "id": "fea60cc5",
   "metadata": {},
   "outputs": [],
   "source": [
    "niftybees = niftybees.astype(int)\n",
    "\n",
    "bankbees = bankbees.astype(int)\n",
    "\n",
    "goldbees = goldbees.astype(int)\n",
    "\n",
    "silverbees = silverbees.astype(int)\n",
    "\n",
    "itbees = itbees.astype(int)\n",
    "\n",
    "mon100 = mon100.astype(int)\n",
    "\n",
    "hngsngbees = hngsngbees.astype(int)"
   ]
  },
  {
   "cell_type": "code",
   "execution_count": 90,
   "id": "254ffdbc",
   "metadata": {},
   "outputs": [
    {
     "name": "stdout",
     "output_type": "stream",
     "text": [
      "\n",
      "Mean of numeric columns:\n",
      "230.78196500672948\n",
      "\n",
      "Variance of numeric columns:\n",
      "1114.221639745748\n"
     ]
    }
   ],
   "source": [
    "# Calculate mean and variance of Bitcoin\n",
    "mean_values = np.mean(niftybees, axis=0)\n",
    "variance_values = np.var(niftybees, axis=0)\n",
    "\n",
    "print(\"\\nMean of numeric columns:\")\n",
    "print(mean_values)\n",
    "\n",
    "print(\"\\nVariance of numeric columns:\")\n",
    "print(variance_values)"
   ]
  },
  {
   "cell_type": "code",
   "execution_count": 91,
   "id": "a0eaad6e",
   "metadata": {},
   "outputs": [
    {
     "name": "stdout",
     "output_type": "stream",
     "text": [
      "\n",
      "Mean of numeric columns:\n",
      "469.08613728129205\n",
      "\n",
      "Variance of numeric columns:\n",
      "3025.432688040375\n"
     ]
    }
   ],
   "source": [
    "# Calculate mean and variance of Ehteruem\n",
    "mean_values = np.mean(bankbees, axis=0)\n",
    "variance_values = np.var(bankbees, axis=0)\n",
    "\n",
    "print(\"\\nMean of numeric columns:\")\n",
    "print(mean_values)\n",
    "\n",
    "print(\"\\nVariance of numeric columns:\")\n",
    "print(variance_values)"
   ]
  },
  {
   "cell_type": "code",
   "execution_count": 92,
   "id": "61f968e9",
   "metadata": {},
   "outputs": [
    {
     "name": "stdout",
     "output_type": "stream",
     "text": [
      "\n",
      "Mean of numeric columns:\n",
      "55.63257065948856\n",
      "\n",
      "Variance of numeric columns:\n",
      "99.94709527596302\n"
     ]
    }
   ],
   "source": [
    "# Calculate mean and variance of BNB\n",
    "mean_values = np.mean(goldbees, axis=0)\n",
    "variance_values = np.var(goldbees, axis=0)\n",
    "\n",
    "print(\"\\nMean of numeric columns:\")\n",
    "print(mean_values)\n",
    "\n",
    "print(\"\\nVariance of numeric columns:\")\n",
    "print(variance_values)"
   ]
  },
  {
   "cell_type": "code",
   "execution_count": 93,
   "id": "22c757b7",
   "metadata": {},
   "outputs": [
    {
     "name": "stdout",
     "output_type": "stream",
     "text": [
      "\n",
      "Mean of numeric columns:\n",
      "74.6850605652759\n",
      "\n",
      "Variance of numeric columns:\n",
      "141.3732223045416\n"
     ]
    }
   ],
   "source": [
    "# Calculate mean and variance of Solana\n",
    "mean_values = np.mean(silverbees, axis=0)\n",
    "variance_values = np.var(silverbees, axis=0)\n",
    "\n",
    "print(\"\\nMean of numeric columns:\")\n",
    "print(mean_values)\n",
    "\n",
    "print(\"\\nVariance of numeric columns:\")\n",
    "print(variance_values)"
   ]
  },
  {
   "cell_type": "code",
   "execution_count": 94,
   "id": "06952fbc",
   "metadata": {},
   "outputs": [
    {
     "name": "stdout",
     "output_type": "stream",
     "text": [
      "\n",
      "Mean of numeric columns:\n",
      "35.720053835800805\n",
      "\n",
      "Variance of numeric columns:\n",
      "36.898749929807146\n"
     ]
    }
   ],
   "source": [
    "# Calculate mean and variance of Shibu\n",
    "mean_values = np.mean(itbees, axis=0)\n",
    "variance_values = np.var(itbees, axis=0)\n",
    "\n",
    "print(\"\\nMean of numeric columns:\")\n",
    "print(mean_values)\n",
    "\n",
    "print(\"\\nVariance of numeric columns:\")\n",
    "print(variance_values)"
   ]
  },
  {
   "cell_type": "code",
   "execution_count": 95,
   "id": "cb9bc4db",
   "metadata": {},
   "outputs": [
    {
     "name": "stdout",
     "output_type": "stream",
     "text": [
      "\n",
      "Mean of numeric columns:\n",
      "136.3472409152086\n",
      "\n",
      "Variance of numeric columns:\n",
      "1238.91307112231\n"
     ]
    }
   ],
   "source": [
    "# Calculate mean and variance of Shibu\n",
    "mean_values = np.mean(mon100, axis=0)\n",
    "variance_values = np.var(mon100, axis=0)\n",
    "\n",
    "print(\"\\nMean of numeric columns:\")\n",
    "print(mean_values)\n",
    "\n",
    "print(\"\\nVariance of numeric columns:\")\n",
    "print(variance_values)"
   ]
  },
  {
   "cell_type": "code",
   "execution_count": 96,
   "id": "e2808487",
   "metadata": {},
   "outputs": [
    {
     "name": "stdout",
     "output_type": "stream",
     "text": [
      "\n",
      "Mean of numeric columns:\n",
      "297.31451612903226\n",
      "\n",
      "Variance of numeric columns:\n",
      "2263.358068851894\n"
     ]
    }
   ],
   "source": [
    "# Calculate mean and variance of Shibu\n",
    "mean_values = np.mean(hngsngbees, axis=0)\n",
    "variance_values = np.var(hngsngbees, axis=0)\n",
    "\n",
    "print(\"\\nMean of numeric columns:\")\n",
    "print(mean_values)\n",
    "\n",
    "print(\"\\nVariance of numeric columns:\")\n",
    "print(variance_values)"
   ]
  },
  {
   "cell_type": "code",
   "execution_count": 97,
   "id": "2b584e6b",
   "metadata": {},
   "outputs": [
    {
     "data": {
      "text/html": [
       "<div>\n",
       "<style scoped>\n",
       "    .dataframe tbody tr th:only-of-type {\n",
       "        vertical-align: middle;\n",
       "    }\n",
       "\n",
       "    .dataframe tbody tr th {\n",
       "        vertical-align: top;\n",
       "    }\n",
       "\n",
       "    .dataframe thead th {\n",
       "        text-align: right;\n",
       "    }\n",
       "</style>\n",
       "<table border=\"1\" class=\"dataframe\">\n",
       "  <thead>\n",
       "    <tr style=\"text-align: right;\">\n",
       "      <th></th>\n",
       "      <th>niftybees</th>\n",
       "      <th>bankbees</th>\n",
       "      <th>goldbees</th>\n",
       "      <th>silverbees</th>\n",
       "      <th>itbees</th>\n",
       "      <th>mon100</th>\n",
       "      <th>hngsngbees</th>\n",
       "    </tr>\n",
       "  </thead>\n",
       "  <tbody>\n",
       "    <tr>\n",
       "      <th>0</th>\n",
       "      <td>278.0</td>\n",
       "      <td>573.0</td>\n",
       "      <td>81.0</td>\n",
       "      <td>102.0</td>\n",
       "      <td>41.0</td>\n",
       "      <td>182.0</td>\n",
       "      <td>389</td>\n",
       "    </tr>\n",
       "    <tr>\n",
       "      <th>1</th>\n",
       "      <td>277.0</td>\n",
       "      <td>570.0</td>\n",
       "      <td>83.0</td>\n",
       "      <td>98.0</td>\n",
       "      <td>41.0</td>\n",
       "      <td>182.0</td>\n",
       "      <td>393</td>\n",
       "    </tr>\n",
       "    <tr>\n",
       "      <th>2</th>\n",
       "      <td>276.0</td>\n",
       "      <td>571.0</td>\n",
       "      <td>81.0</td>\n",
       "      <td>98.0</td>\n",
       "      <td>41.0</td>\n",
       "      <td>181.0</td>\n",
       "      <td>384</td>\n",
       "    </tr>\n",
       "    <tr>\n",
       "      <th>3</th>\n",
       "      <td>278.0</td>\n",
       "      <td>574.0</td>\n",
       "      <td>82.0</td>\n",
       "      <td>96.0</td>\n",
       "      <td>41.0</td>\n",
       "      <td>179.0</td>\n",
       "      <td>391</td>\n",
       "    </tr>\n",
       "    <tr>\n",
       "      <th>4</th>\n",
       "      <td>276.0</td>\n",
       "      <td>572.0</td>\n",
       "      <td>80.0</td>\n",
       "      <td>94.0</td>\n",
       "      <td>40.0</td>\n",
       "      <td>178.0</td>\n",
       "      <td>394</td>\n",
       "    </tr>\n",
       "    <tr>\n",
       "      <th>...</th>\n",
       "      <td>...</td>\n",
       "      <td>...</td>\n",
       "      <td>...</td>\n",
       "      <td>...</td>\n",
       "      <td>...</td>\n",
       "      <td>...</td>\n",
       "      <td>...</td>\n",
       "    </tr>\n",
       "    <tr>\n",
       "      <th>739</th>\n",
       "      <td>175.0</td>\n",
       "      <td>347.0</td>\n",
       "      <td>44.0</td>\n",
       "      <td>61.0</td>\n",
       "      <td>30.0</td>\n",
       "      <td>101.0</td>\n",
       "      <td>303</td>\n",
       "    </tr>\n",
       "    <tr>\n",
       "      <th>740</th>\n",
       "      <td>178.0</td>\n",
       "      <td>355.0</td>\n",
       "      <td>44.0</td>\n",
       "      <td>60.0</td>\n",
       "      <td>30.0</td>\n",
       "      <td>102.0</td>\n",
       "      <td>293</td>\n",
       "    </tr>\n",
       "    <tr>\n",
       "      <th>741</th>\n",
       "      <td>179.0</td>\n",
       "      <td>351.0</td>\n",
       "      <td>44.0</td>\n",
       "      <td>61.0</td>\n",
       "      <td>30.0</td>\n",
       "      <td>104.0</td>\n",
       "      <td>305</td>\n",
       "    </tr>\n",
       "    <tr>\n",
       "      <th>742</th>\n",
       "      <td>181.0</td>\n",
       "      <td>355.0</td>\n",
       "      <td>44.0</td>\n",
       "      <td>61.0</td>\n",
       "      <td>29.0</td>\n",
       "      <td>105.0</td>\n",
       "      <td>309</td>\n",
       "    </tr>\n",
       "    <tr>\n",
       "      <th>743</th>\n",
       "      <td>NaN</td>\n",
       "      <td>NaN</td>\n",
       "      <td>NaN</td>\n",
       "      <td>NaN</td>\n",
       "      <td>NaN</td>\n",
       "      <td>NaN</td>\n",
       "      <td>303</td>\n",
       "    </tr>\n",
       "  </tbody>\n",
       "</table>\n",
       "<p>744 rows × 7 columns</p>\n",
       "</div>"
      ],
      "text/plain": [
       "     niftybees  bankbees  goldbees  silverbees  itbees  mon100  hngsngbees\n",
       "0        278.0     573.0      81.0       102.0    41.0   182.0         389\n",
       "1        277.0     570.0      83.0        98.0    41.0   182.0         393\n",
       "2        276.0     571.0      81.0        98.0    41.0   181.0         384\n",
       "3        278.0     574.0      82.0        96.0    41.0   179.0         391\n",
       "4        276.0     572.0      80.0        94.0    40.0   178.0         394\n",
       "..         ...       ...       ...         ...     ...     ...         ...\n",
       "739      175.0     347.0      44.0        61.0    30.0   101.0         303\n",
       "740      178.0     355.0      44.0        60.0    30.0   102.0         293\n",
       "741      179.0     351.0      44.0        61.0    30.0   104.0         305\n",
       "742      181.0     355.0      44.0        61.0    29.0   105.0         309\n",
       "743        NaN       NaN       NaN         NaN     NaN     NaN         303\n",
       "\n",
       "[744 rows x 7 columns]"
      ]
     },
     "execution_count": 97,
     "metadata": {},
     "output_type": "execute_result"
    }
   ],
   "source": [
    "# Merging all Crypto Currencies in a DataFrame\n",
    "\n",
    "df = pd.DataFrame({'niftybees':niftybees, 'bankbees': bankbees, 'goldbees':goldbees, 'silverbees': silverbees, 'itbees':itbees, 'mon100':mon100, 'hngsngbees':hngsngbees})\n",
    "# df = pd.DataFrame({'niftybees':niftybees, 'bankbees': bankbees, 'goldbees':goldbees, 'itbees':itbees})\n",
    "# df = pd.DataFrame({'goldbees': goldbees, 'bankbees': bankbees, 'niftybees':niftybees})\n",
    "df"
   ]
  },
  {
   "cell_type": "code",
   "execution_count": 98,
   "id": "ce545db2",
   "metadata": {},
   "outputs": [
    {
     "name": "stdout",
     "output_type": "stream",
     "text": [
      "     niftybees  bankbees  goldbees  silverbees    itbees    mon100  hngsngbees\n",
      "1    -0.003604 -0.005249  0.024391   -0.040005  0.000000  0.000000    0.010230\n",
      "2    -0.003617  0.001753 -0.024391    0.000000  0.000000 -0.005510   -0.023167\n",
      "3     0.007220  0.005240  0.012270   -0.020619  0.000000 -0.011111    0.018065\n",
      "4    -0.007220 -0.003490 -0.024693   -0.021053 -0.024693 -0.005602    0.007643\n",
      "5     0.010811  0.000000 -0.012579    0.000000  0.000000  0.016713   -0.023108\n",
      "..         ...       ...       ...         ...       ...       ...         ...\n",
      "738  -0.005797 -0.005935  0.022990    0.064539  0.129212  0.020203    0.006557\n",
      "739   0.017291  0.032214  0.000000   -0.048009 -0.095310  0.009950   -0.009852\n",
      "740   0.016998  0.022793  0.000000   -0.016529  0.000000  0.009852   -0.033560\n",
      "741   0.005602 -0.011332  0.000000    0.016529  0.000000  0.019418    0.040139\n",
      "742   0.011111  0.011332  0.000000    0.000000 -0.033902  0.009569    0.013030\n",
      "\n",
      "[742 rows x 7 columns]\n",
      "niftybees    -0.000578\n",
      "bankbees     -0.000645\n",
      "goldbees     -0.000822\n",
      "silverbees   -0.000693\n",
      "itbees       -0.000467\n",
      "mon100       -0.000741\n",
      "hngsngbees   -0.000310\n",
      "dtype: float64\n",
      "            niftybees      bankbees  goldbees    silverbees    itbees  \\\n",
      "niftybees    0.000310  4.434175e-05  0.000027  3.257696e-06  0.000027   \n",
      "bankbees     0.000044  1.064567e-04 -0.000016 -6.284403e-07  0.000020   \n",
      "goldbees     0.000027 -1.649987e-05  0.000436  4.437457e-05 -0.000007   \n",
      "silverbees   0.000003 -6.284403e-07  0.000044  3.380112e-04  0.000032   \n",
      "itbees       0.000027  1.980385e-05 -0.000007  3.158990e-05  0.000543   \n",
      "mon100       0.000026  1.473889e-05  0.000042  1.876047e-05  0.000015   \n",
      "hngsngbees  -0.000012  9.205659e-07  0.000014  2.149963e-05 -0.000011   \n",
      "\n",
      "              mon100    hngsngbees  \n",
      "niftybees   0.000026 -1.238973e-05  \n",
      "bankbees    0.000015  9.205659e-07  \n",
      "goldbees    0.000042  1.404390e-05  \n",
      "silverbees  0.000019  2.149963e-05  \n",
      "itbees      0.000015 -1.057624e-05  \n",
      "mon100      0.000569  3.329176e-05  \n",
      "hngsngbees  0.000033  6.409081e-04  \n",
      "7\n",
      "[0.14285714 0.14285714 0.14285714 0.14285714 0.14285714 0.14285714\n",
      " 0.14285714]\n"
     ]
    }
   ],
   "source": [
    "# 1. Calculate log returns\n",
    "log_returns = np.log(df / df.shift(1)).dropna()\n",
    "\n",
    "print(log_returns)\n",
    "\n",
    "# 2. Calculate mean returns and covariance matrix\n",
    "mean_returns = log_returns.mean()\n",
    "\n",
    "print(mean_returns)\n",
    "\n",
    "cov_matrix = log_returns.cov()\n",
    "\n",
    "print(cov_matrix)\n",
    "\n",
    "# 3. Number of assets\n",
    "num_assets = len(mean_returns)\n",
    "\n",
    "print(num_assets)\n",
    "\n",
    "# 4. Initial weights guess (equal weight)\n",
    "initial_weights = np.array([1/num_assets] * num_assets)\n",
    "# initial_weights = np.array([.5,.2,.15,.15])\n",
    "\n",
    "print(initial_weights)"
   ]
  },
  {
   "cell_type": "code",
   "execution_count": 99,
   "id": "773bcc1f",
   "metadata": {},
   "outputs": [],
   "source": [
    "# 5. Risk-free rate (e.g. 2% per annum)\n",
    "risk_free_rate = 0.015\n",
    "\n",
    "# 6. Define the negative Sharpe Ratio function\n",
    "def neg_sharpe_ratio(weights, mean_returns, cov_matrix, risk_free_rate):\n",
    "    portfolio_return = np.dot(weights, mean_returns) * 252  # annualized\n",
    "    portfolio_volatility = np.sqrt(np.dot(weights.T, np.dot(cov_matrix * 252, weights)))  # annualized\n",
    "    sharpe_ratio = (portfolio_return - risk_free_rate) / portfolio_volatility\n",
    "    return -sharpe_ratio  # we minimize negative Sharpe\n",
    "\n",
    "# 7. Constraints: weights sum to 1\n",
    "constraints = ({'type': 'eq', 'fun': lambda x: np.sum(x) - 1})\n",
    "\n",
    "# 8. Bounds: no short selling, so weights between 0 and 1\n",
    "bounds = tuple((0, 1) for _ in range(num_assets))\n",
    "\n",
    "# 9. Run optimization\n",
    "result = minimize(\n",
    "    neg_sharpe_ratio,\n",
    "    initial_weights,\n",
    "    args=(mean_returns, cov_matrix, risk_free_rate),\n",
    "    method='SLSQP',\n",
    "    bounds=bounds,\n",
    "    constraints=constraints\n",
    ")"
   ]
  },
  {
   "cell_type": "code",
   "execution_count": 100,
   "id": "8d669c08",
   "metadata": {},
   "outputs": [
    {
     "name": "stdout",
     "output_type": "stream",
     "text": [
      "\n",
      "Optimal Weights:\n",
      "niftybees: 0.0000\n",
      "bankbees: 0.0000\n",
      "goldbees: 0.0000\n",
      "silverbees: 0.0000\n",
      "itbees: 0.0000\n",
      "mon100: 0.0000\n",
      "hngsngbees: 1.0000\n",
      "\n",
      "Expected Annual Return: -7.82%\n",
      "Annual Volatility: 40.19%\n",
      "Sharpe Ratio: -0.23\n"
     ]
    }
   ],
   "source": [
    "# 10. Output results\n",
    "optimal_weights = result.x\n",
    "print(\"\\nOptimal Weights:\")\n",
    "for asset, weight in zip(df.columns, optimal_weights):\n",
    "    print(f\"{asset}: {weight:.4f}\")\n",
    "\n",
    "# Optional: Portfolio stats\n",
    "opt_return = np.dot(optimal_weights, mean_returns) * 252\n",
    "opt_volatility = np.sqrt(np.dot(optimal_weights.T, np.dot(cov_matrix * 252, optimal_weights)))\n",
    "opt_sharpe = (opt_return - risk_free_rate) / opt_volatility\n",
    "\n",
    "print(f\"\\nExpected Annual Return: {opt_return:.2%}\")\n",
    "print(f\"Annual Volatility: {opt_volatility:.2%}\")\n",
    "print(f\"Sharpe Ratio: {opt_sharpe:.2f}\")\n"
   ]
  },
  {
   "cell_type": "code",
   "execution_count": 101,
   "id": "79299fcc",
   "metadata": {},
   "outputs": [
    {
     "data": {
      "image/png": "[encoded data removed]",
      "text/plain": [
       "<Figure size 1200x600 with 2 Axes>"
      ]
     },
     "metadata": {},
     "output_type": "display_data"
    }
   ],
   "source": [
    "import matplotlib.pyplot as plt\n",
    "\n",
    "# 1. Generate random portfolios\n",
    "num_portfolios = 5000\n",
    "results = np.zeros((3, num_portfolios))  # Rows: returns, volatility, Sharpe\n",
    "\n",
    "for i in range(num_portfolios):\n",
    "    weights = np.random.random(num_assets)\n",
    "    weights /= np.sum(weights)\n",
    "    \n",
    "    portfolio_return = np.dot(weights, mean_returns) * 252\n",
    "    portfolio_volatility = np.sqrt(np.dot(weights.T, np.dot(cov_matrix * 252, weights)))\n",
    "    sharpe_ratio = (portfolio_return - risk_free_rate) / portfolio_volatility\n",
    "    \n",
    "    results[0, i] = portfolio_return\n",
    "    results[1, i] = portfolio_volatility\n",
    "    results[2, i] = sharpe_ratio\n",
    "\n",
    "# 2. Plot Efficient Frontier\n",
    "plt.figure(figsize=(12, 6))\n",
    "plt.scatter(results[1], results[0], c=results[2], cmap='viridis', alpha=0.7)\n",
    "plt.colorbar(label='Sharpe Ratio')\n",
    "plt.xlabel('Volatility (Std Dev)')\n",
    "plt.ylabel('Expected Return')\n",
    "plt.title('Efficient Frontier')\n",
    "\n",
    "# 3. Highlight optimal portfolio\n",
    "plt.scatter(opt_volatility, opt_return, c='red', s=100, edgecolors='black', label='Max Sharpe Ratio')\n",
    "plt.legend()\n",
    "plt.grid(True)\n",
    "plt.show()"
   ]
  }
 ],
 "metadata": {
  "kernelspec": {
   "display_name": "Python 3 (ipykernel)",
   "language": "python",
   "name": "python3"
  },
  "language_info": {
   "codemirror_mode": {
    "name": "ipython",
    "version": 3
   },
   "file_extension": ".py",
   "mimetype": "text/x-python",
   "name": "python",
   "nbconvert_exporter": "python",
   "pygments_lexer": "ipython3",
   "version": "3.11.4"
  }
 },
 "nbformat": 4,
 "nbformat_minor": 5
}
