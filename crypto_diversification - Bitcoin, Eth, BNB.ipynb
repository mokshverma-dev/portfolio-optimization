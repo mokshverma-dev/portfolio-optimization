{
 "cells": [
  {
   "cell_type": "code",
   "execution_count": 9,
   "id": "56f3f7ad",
   "metadata": {},
   "outputs": [],
   "source": [
    "import numpy as np\n",
    "import pandas as pd\n",
    "from scipy.optimize import minimize"
   ]
  },
  {
   "cell_type": "code",
   "execution_count": 10,
   "id": "d104bf82",
   "metadata": {},
   "outputs": [
    {
     "data": {
      "text/plain": [
       "dtype('float64')"
      ]
     },
     "execution_count": 10,
     "metadata": {},
     "output_type": "execute_result"
    }
   ],
   "source": [
    "# Replace 'filename.csv' with the path to your CSV file\n",
    "bitcoin_history = '300000/Crypto/BTC_INR_synthetic_historical_data.csv'\n",
    "\n",
    "# Read the CSV file into a DataFrame\n",
    "bitcoin = pd.read_csv(bitcoin_history)\n",
    "\n",
    "# Print the DataFrame\n",
    "bitcoin = bitcoin['Open']\n",
    "\n",
    "# ---------------------------------------------\n",
    "\n",
    "# Replace 'filename.csv' with the path to your CSV file\n",
    "etheruem_history = '300000/Crypto/ETH_INR Synthetic Historical Data.csv'\n",
    "\n",
    "# Read the CSV file into a DataFrame\n",
    "etheruem = pd.read_csv(etheruem_history)\n",
    "\n",
    "# Print the DataFrame\n",
    "etheruem = etheruem['Open']\n",
    "\n",
    "# ---------------------------------------------\n",
    "\n",
    "# Replace 'filename.csv' with the path to your CSV file\n",
    "bnb_history = '300000/Crypto/BNB_INR Bitbns Historical Data.csv'\n",
    "\n",
    "# Read the CSV file into a DataFrame\n",
    "bnb = pd.read_csv(bnb_history)\n",
    "\n",
    "# Print the DataFrame\n",
    "bnb = bnb['Open']\n",
    "\n",
    "# ---------------------------------------------\n",
    "\n",
    "# Replace 'filename.csv' with the path to your CSV file\n",
    "solana_history = '300000/Crypto/SOL_INR Bitbns Historical Data.csv'\n",
    "\n",
    "# Read the CSV file into a DataFrame\n",
    "solana = pd.read_csv(solana_history)\n",
    "\n",
    "# Print the DataFrame\n",
    "solana = solana['Open']\n",
    "\n",
    "# ---------------------------------------------\n",
    "\n",
    "# Replace 'filename.csv' with the path to your CSV file\n",
    "shibu_history = '300000/Crypto/SHIB_INR Bitbns Historical Data.csv'\n",
    "\n",
    "# Read the CSV file into a DataFrame\n",
    "shibu = pd.read_csv(shibu_history)\n",
    "\n",
    "# Print the DataFrame\n",
    "shibu = shibu['Open']\n",
    "\n",
    "shibu.dtype"
   ]
  },
  {
   "cell_type": "code",
   "execution_count": 11,
   "id": "ac654eb6",
   "metadata": {},
   "outputs": [],
   "source": [
    "bitcoin = bitcoin.astype(int)\n",
    "\n",
    "etheruem = etheruem.astype(int)\n",
    "\n",
    "bnb = bnb.astype(int)\n",
    "\n",
    "solana = solana.astype(int)\n",
    "\n",
    "shibu = shibu.astype(int)"
   ]
  },
  {
   "cell_type": "code",
   "execution_count": 12,
   "id": "80c7af11",
   "metadata": {},
   "outputs": [
    {
     "name": "stdout",
     "output_type": "stream",
     "text": [
      "\n",
      "Mean of numeric columns:\n",
      "3712764.907019143\n",
      "\n",
      "Variance of numeric columns:\n",
      "5605172219556.623\n"
     ]
    }
   ],
   "source": [
    "# Calculate mean and variance of Bitcoin\n",
    "mean_values = np.mean(bitcoin, axis=0)\n",
    "variance_values = np.var(bitcoin, axis=0)\n",
    "\n",
    "print(\"\\nMean of numeric columns:\")\n",
    "print(mean_values)\n",
    "\n",
    "print(\"\\nVariance of numeric columns:\")\n",
    "print(variance_values)"
   ]
  },
  {
   "cell_type": "code",
   "execution_count": 13,
   "id": "328324f4",
   "metadata": {},
   "outputs": [
    {
     "name": "stdout",
     "output_type": "stream",
     "text": [
      "\n",
      "Mean of numeric columns:\n",
      "172233.4165907019\n",
      "\n",
      "Variance of numeric columns:\n",
      "5246497218.2941065\n"
     ]
    }
   ],
   "source": [
    "# Calculate mean and variance of Ehteruem\n",
    "mean_values = np.mean(etheruem, axis=0)\n",
    "variance_values = np.var(etheruem, axis=0)\n",
    "\n",
    "print(\"\\nMean of numeric columns:\")\n",
    "print(mean_values)\n",
    "\n",
    "print(\"\\nVariance of numeric columns:\")\n",
    "print(variance_values)"
   ]
  },
  {
   "cell_type": "code",
   "execution_count": 14,
   "id": "42c0cf7e",
   "metadata": {},
   "outputs": [
    {
     "name": "stdout",
     "output_type": "stream",
     "text": [
      "\n",
      "Mean of numeric columns:\n",
      "35677.56882406563\n",
      "\n",
      "Variance of numeric columns:\n",
      "110071532.94535471\n"
     ]
    }
   ],
   "source": [
    "# Calculate mean and variance of BNB\n",
    "mean_values = np.mean(bnb, axis=0)\n",
    "variance_values = np.var(bnb, axis=0)\n",
    "\n",
    "print(\"\\nMean of numeric columns:\")\n",
    "print(mean_values)\n",
    "\n",
    "print(\"\\nVariance of numeric columns:\")\n",
    "print(variance_values)"
   ]
  },
  {
   "cell_type": "code",
   "execution_count": 15,
   "id": "25eed7aa",
   "metadata": {},
   "outputs": [
    {
     "name": "stdout",
     "output_type": "stream",
     "text": [
      "\n",
      "Mean of numeric columns:\n",
      "7374.410209662717\n",
      "\n",
      "Variance of numeric columns:\n",
      "27669329.68769885\n"
     ]
    }
   ],
   "source": [
    "# Calculate mean and variance of Solana\n",
    "mean_values = np.mean(solana, axis=0)\n",
    "variance_values = np.var(solana, axis=0)\n",
    "\n",
    "print(\"\\nMean of numeric columns:\")\n",
    "print(mean_values)\n",
    "\n",
    "print(\"\\nVariance of numeric columns:\")\n",
    "print(variance_values)"
   ]
  },
  {
   "cell_type": "code",
   "execution_count": 16,
   "id": "f2ab969e",
   "metadata": {},
   "outputs": [
    {
     "name": "stdout",
     "output_type": "stream",
     "text": [
      "\n",
      "Mean of numeric columns:\n",
      "0.0\n",
      "\n",
      "Variance of numeric columns:\n",
      "0.0\n"
     ]
    }
   ],
   "source": [
    "# Calculate mean and variance of Shibu\n",
    "mean_values = np.mean(shibu, axis=0)\n",
    "variance_values = np.var(shibu, axis=0)\n",
    "\n",
    "print(\"\\nMean of numeric columns:\")\n",
    "print(mean_values)\n",
    "\n",
    "print(\"\\nVariance of numeric columns:\")\n",
    "print(variance_values)"
   ]
  },
  {
   "cell_type": "code",
   "execution_count": 17,
   "id": "c6a6bc7e",
   "metadata": {},
   "outputs": [
    {
     "data": {
      "text/html": [
       "<div>\n",
       "<style scoped>\n",
       "    .dataframe tbody tr th:only-of-type {\n",
       "        vertical-align: middle;\n",
       "    }\n",
       "\n",
       "    .dataframe tbody tr th {\n",
       "        vertical-align: top;\n",
       "    }\n",
       "\n",
       "    .dataframe thead th {\n",
       "        text-align: right;\n",
       "    }\n",
       "</style>\n",
       "<table border=\"1\" class=\"dataframe\">\n",
       "  <thead>\n",
       "    <tr style=\"text-align: right;\">\n",
       "      <th></th>\n",
       "      <th>bitcoin</th>\n",
       "      <th>etheruem</th>\n",
       "      <th>bnb</th>\n",
       "    </tr>\n",
       "  </thead>\n",
       "  <tbody>\n",
       "    <tr>\n",
       "      <th>0</th>\n",
       "      <td>90548</td>\n",
       "      <td>2166</td>\n",
       "      <td>46719</td>\n",
       "    </tr>\n",
       "    <tr>\n",
       "      <th>1</th>\n",
       "      <td>89485</td>\n",
       "      <td>2124</td>\n",
       "      <td>49991</td>\n",
       "    </tr>\n",
       "    <tr>\n",
       "      <th>2</th>\n",
       "      <td>87129</td>\n",
       "      <td>2071</td>\n",
       "      <td>48634</td>\n",
       "    </tr>\n",
       "    <tr>\n",
       "      <th>3</th>\n",
       "      <td>89824</td>\n",
       "      <td>2237</td>\n",
       "      <td>47832</td>\n",
       "    </tr>\n",
       "    <tr>\n",
       "      <th>4</th>\n",
       "      <td>90210</td>\n",
       "      <td>2221</td>\n",
       "      <td>44565</td>\n",
       "    </tr>\n",
       "    <tr>\n",
       "      <th>...</th>\n",
       "      <td>...</td>\n",
       "      <td>...</td>\n",
       "      <td>...</td>\n",
       "    </tr>\n",
       "    <tr>\n",
       "      <th>1092</th>\n",
       "      <td>2220789</td>\n",
       "      <td>119720</td>\n",
       "      <td>23000</td>\n",
       "    </tr>\n",
       "    <tr>\n",
       "      <th>1093</th>\n",
       "      <td>2274131</td>\n",
       "      <td>130012</td>\n",
       "      <td>24305</td>\n",
       "    </tr>\n",
       "    <tr>\n",
       "      <th>1094</th>\n",
       "      <td>2343419</td>\n",
       "      <td>139090</td>\n",
       "      <td>24384</td>\n",
       "    </tr>\n",
       "    <tr>\n",
       "      <th>1095</th>\n",
       "      <td>2347694</td>\n",
       "      <td>139292</td>\n",
       "      <td>24167</td>\n",
       "    </tr>\n",
       "    <tr>\n",
       "      <th>1096</th>\n",
       "      <td>2417934</td>\n",
       "      <td>140818</td>\n",
       "      <td>24086</td>\n",
       "    </tr>\n",
       "  </tbody>\n",
       "</table>\n",
       "<p>1097 rows × 3 columns</p>\n",
       "</div>"
      ],
      "text/plain": [
       "      bitcoin  etheruem    bnb\n",
       "0       90548      2166  46719\n",
       "1       89485      2124  49991\n",
       "2       87129      2071  48634\n",
       "3       89824      2237  47832\n",
       "4       90210      2221  44565\n",
       "...       ...       ...    ...\n",
       "1092  2220789    119720  23000\n",
       "1093  2274131    130012  24305\n",
       "1094  2343419    139090  24384\n",
       "1095  2347694    139292  24167\n",
       "1096  2417934    140818  24086\n",
       "\n",
       "[1097 rows x 3 columns]"
      ]
     },
     "execution_count": 17,
     "metadata": {},
     "output_type": "execute_result"
    }
   ],
   "source": [
    "# Merging all Crypto Currencies in a DataFrame\n",
    "\n",
    "df = pd.DataFrame({'bitcoin':bitcoin, 'etheruem': etheruem, 'bnb':bnb})\n",
    "df"
   ]
  },
  {
   "cell_type": "code",
   "execution_count": 18,
   "id": "ab9a44a7",
   "metadata": {},
   "outputs": [
    {
     "name": "stdout",
     "output_type": "stream",
     "text": [
      "       bitcoin  etheruem       bnb\n",
      "1    -0.011809 -0.019581  0.067692\n",
      "2    -0.026681 -0.025270 -0.027520\n",
      "3     0.030462  0.077104 -0.016628\n",
      "4     0.004288 -0.007178 -0.070746\n",
      "5     0.000898  0.001799  0.010846\n",
      "...        ...       ...       ...\n",
      "1092  0.065611  0.065408  0.045998\n",
      "1093  0.023735  0.082471  0.055188\n",
      "1094  0.030013  0.067494  0.003245\n",
      "1095  0.001823  0.001451 -0.008939\n",
      "1096  0.029480  0.010896 -0.003357\n",
      "\n",
      "[1096 rows x 3 columns]\n",
      "bitcoin     0.002997\n",
      "etheruem    0.003809\n",
      "bnb        -0.000604\n",
      "dtype: float64\n",
      "           bitcoin  etheruem       bnb\n",
      "bitcoin   0.290748  0.290852  0.001074\n",
      "etheruem  0.290852  0.291363  0.001134\n",
      "bnb       0.001074  0.001134  0.002006\n",
      "3\n",
      "[0.33333333 0.33333333 0.33333333]\n"
     ]
    }
   ],
   "source": [
    "# 1. Calculate log returns\n",
    "log_returns = np.log(df / df.shift(1)).dropna()\n",
    "\n",
    "print(log_returns)\n",
    "\n",
    "# 2. Calculate mean returns and covariance matrix\n",
    "mean_returns = log_returns.mean()\n",
    "\n",
    "print(mean_returns)\n",
    "\n",
    "cov_matrix = log_returns.cov()\n",
    "\n",
    "print(cov_matrix)\n",
    "\n",
    "# 3. Number of assets\n",
    "num_assets = len(mean_returns)\n",
    "\n",
    "print(num_assets)\n",
    "\n",
    "# 4. Initial weights guess (equal weight)\n",
    "initial_weights = np.array([1/num_assets] * num_assets)\n",
    "# initial_weights = np.array([.5,.2,.15,.15])\n",
    "\n",
    "print(initial_weights)"
   ]
  },
  {
   "cell_type": "code",
   "execution_count": 19,
   "id": "e28a826b",
   "metadata": {},
   "outputs": [],
   "source": [
    "# 5. Risk-free rate (e.g. 2% per annum)\n",
    "risk_free_rate = 0.0675\n",
    "\n",
    "# 6. Define the negative Sharpe Ratio function\n",
    "def neg_sharpe_ratio(weights, mean_returns, cov_matrix, risk_free_rate):\n",
    "    portfolio_return = np.dot(weights, mean_returns) * 252  # annualized\n",
    "    portfolio_volatility = np.sqrt(np.dot(weights.T, np.dot(cov_matrix * 252, weights)))  # annualized\n",
    "    sharpe_ratio = (portfolio_return - risk_free_rate) / portfolio_volatility\n",
    "    return -sharpe_ratio  # we minimize negative Sharpe\n",
    "\n",
    "# 7. Constraints: weights sum to 1\n",
    "constraints = ({'type': 'eq', 'fun': lambda x: np.sum(x) - 1})\n",
    "\n",
    "# 8. Bounds: no short selling, so weights between 0 and 1\n",
    "bounds = tuple((0, 1) for _ in range(num_assets))\n",
    "\n",
    "# 9. Run optimization\n",
    "result = minimize(\n",
    "    neg_sharpe_ratio,\n",
    "    initial_weights,\n",
    "    args=(mean_returns, cov_matrix, risk_free_rate),\n",
    "    method='SLSQP',\n",
    "    bounds=bounds,\n",
    "    constraints=constraints\n",
    ")"
   ]
  },
  {
   "cell_type": "code",
   "execution_count": 20,
   "id": "9f00e548",
   "metadata": {},
   "outputs": [
    {
     "name": "stdout",
     "output_type": "stream",
     "text": [
      "\n",
      "Optimal Weights:\n",
      "bitcoin: 0.0000\n",
      "etheruem: 1.0000\n",
      "bnb: 0.0000\n",
      "\n",
      "Expected Annual Return: 95.99%\n",
      "Annual Volatility: 856.88%\n",
      "Sharpe Ratio: 0.10\n"
     ]
    }
   ],
   "source": [
    "# 10. Output results\n",
    "optimal_weights = result.x\n",
    "print(\"\\nOptimal Weights:\")\n",
    "for asset, weight in zip(df.columns, optimal_weights):\n",
    "    print(f\"{asset}: {weight:.4f}\")\n",
    "\n",
    "# Optional: Portfolio stats\n",
    "opt_return = np.dot(optimal_weights, mean_returns) * 252\n",
    "opt_volatility = np.sqrt(np.dot(optimal_weights.T, np.dot(cov_matrix * 252, optimal_weights)))\n",
    "opt_sharpe = (opt_return - risk_free_rate) / opt_volatility\n",
    "\n",
    "print(f\"\\nExpected Annual Return: {opt_return:.2%}\")\n",
    "print(f\"Annual Volatility: {opt_volatility:.2%}\")\n",
    "print(f\"Sharpe Ratio: {opt_sharpe:.2f}\")\n"
   ]
  },
  {
   "cell_type": "code",
   "execution_count": 21,
   "id": "1c4b6c77",
   "metadata": {},
   "outputs": [
    {
     "data": {
      "image/png": "[encoded data removed]",
      "text/plain": [
       "<Figure size 1200x600 with 2 Axes>"
      ]
     },
     "metadata": {},
     "output_type": "display_data"
    }
   ],
   "source": [
    "import matplotlib.pyplot as plt\n",
    "\n",
    "# 1. Generate random portfolios\n",
    "num_portfolios = 5000\n",
    "results = np.zeros((3, num_portfolios))  # Rows: returns, volatility, Sharpe\n",
    "\n",
    "for i in range(num_portfolios):\n",
    "    weights = np.random.random(num_assets)\n",
    "    weights /= np.sum(weights)\n",
    "    \n",
    "    portfolio_return = np.dot(weights, mean_returns) * 252\n",
    "    portfolio_volatility = np.sqrt(np.dot(weights.T, np.dot(cov_matrix * 252, weights)))\n",
    "    sharpe_ratio = (portfolio_return - risk_free_rate) / portfolio_volatility\n",
    "    \n",
    "    results[0, i] = portfolio_return\n",
    "    results[1, i] = portfolio_volatility\n",
    "    results[2, i] = sharpe_ratio\n",
    "\n",
    "# 2. Plot Efficient Frontier\n",
    "plt.figure(figsize=(12, 6))\n",
    "plt.scatter(results[1], results[0], c=results[2], cmap='viridis', alpha=0.7)\n",
    "plt.colorbar(label='Sharpe Ratio')\n",
    "plt.xlabel('Volatility (Std Dev)')\n",
    "plt.ylabel('Expected Return')\n",
    "plt.title('Efficient Frontier')\n",
    "\n",
    "# 3. Highlight optimal portfolio\n",
    "plt.scatter(opt_volatility, opt_return, c='red', s=100, edgecolors='black', label='Max Sharpe Ratio')\n",
    "plt.legend()\n",
    "plt.grid(True)\n",
    "plt.show()"
   ]
  }
 ],
 "metadata": {
  "kernelspec": {
   "display_name": "Python 3 (ipykernel)",
   "language": "python",
   "name": "python3"
  },
  "language_info": {
   "codemirror_mode": {
    "name": "ipython",
    "version": 3
   },
   "file_extension": ".py",
   "mimetype": "text/x-python",
   "name": "python",
   "nbconvert_exporter": "python",
   "pygments_lexer": "ipython3",
   "version": "3.11.4"
  }
 },
 "nbformat": 4,
 "nbformat_minor": 5
}
