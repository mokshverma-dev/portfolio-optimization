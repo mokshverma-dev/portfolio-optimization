{
 "cells": [
  {
   "cell_type": "code",
   "execution_count": 1,
   "id": "ad7fd626",
   "metadata": {},
   "outputs": [],
   "source": [
    "import numpy as np\n",
    "import pandas as pd\n",
    "from scipy.optimize import minimize"
   ]
  },
  {
   "cell_type": "code",
   "execution_count": 2,
   "id": "19ed400b",
   "metadata": {},
   "outputs": [
    {
     "data": {
      "text/plain": [
       "dtype('float64')"
      ]
     },
     "execution_count": 2,
     "metadata": {},
     "output_type": "execute_result"
    }
   ],
   "source": [
    "# Replace 'filename.csv' with the path to your CSV file\n",
    "niftybees_history = '300000/Equity_etf/NIFTYBES_Historical_PR_08062022to08062025.csv'\n",
    "\n",
    "# Read the CSV file into a DataFrame\n",
    "niftybees = pd.read_csv(niftybees_history)\n",
    "\n",
    "# Print the DataFrame\n",
    "niftybees = niftybees['Open']\n",
    "\n",
    "# ---------------------------------------------\n",
    "\n",
    "# Replace 'filename.csv' with the path to your CSV file\n",
    "bankbees_history = '300000/Equity_etf/BANKBES Historical Data.csv'\n",
    "\n",
    "# Read the CSV file into a DataFrame\n",
    "bankbees = pd.read_csv(bankbees_history)\n",
    "\n",
    "# Print the DataFrame\n",
    "bankbees = bankbees['Open']\n",
    "\n",
    "# ---------------------------------------------\n",
    "\n",
    "# Replace 'filename.csv' with the path to your CSV file\n",
    "goldbees_history = '300000/Equity_etf/GBES Historical Data.csv'\n",
    "\n",
    "# Read the CSV file into a DataFrame\n",
    "goldbees = pd.read_csv(goldbees_history)\n",
    "\n",
    "# Print the DataFrame\n",
    "goldbees = goldbees['Open']\n",
    "\n",
    "# ---------------------------------------------\n",
    "\n",
    "# Replace 'filename.csv' with the path to your CSV file\n",
    "silverbees_history = '300000/Equity_etf/SILBES Historical Data.csv'\n",
    "\n",
    "# Read the CSV file into a DataFrame\n",
    "silverbees = pd.read_csv(silverbees_history)\n",
    "\n",
    "# Print the DataFrame\n",
    "silverbees = silverbees['Open']\n",
    "\n",
    "# ---------------------------------------------\n",
    "\n",
    "# Replace 'filename.csv' with the path to your CSV file\n",
    "itbees_history = '300000/Equity_etf/ITBES Historical Data.csv'\n",
    "\n",
    "# Read the CSV file into a DataFrame\n",
    "itbees = pd.read_csv(itbees_history)\n",
    "\n",
    "# Print the DataFrame\n",
    "itbees = itbees['Open']\n",
    "\n",
    "# ---------------------------------------------\n",
    "\n",
    "# Replace 'filename.csv' with the path to your CSV file\n",
    "mon100_history = '300000/Equity_etf/MON100 Historical Data.csv'\n",
    "\n",
    "# Read the CSV file into a DataFrame\n",
    "mon100 = pd.read_csv(mon100_history)\n",
    "\n",
    "# Print the DataFrame\n",
    "mon100 = mon100['Open']\n",
    "\n",
    "# ---------------------------------------------\n",
    "\n",
    "# Replace 'filename.csv' with the path to your CSV file\n",
    "hngsngbees_history = '300000/Equity_etf/HNGSBES Historical Data.csv'\n",
    "\n",
    "# Read the CSV file into a DataFrame\n",
    "hngsngbees = pd.read_csv(hngsngbees_history)\n",
    "\n",
    "# Print the DataFrame\n",
    "hngsngbees = hngsngbees['Open']\n",
    "\n",
    "hngsngbees.dtype"
   ]
  },
  {
   "cell_type": "code",
   "execution_count": 3,
   "id": "fea60cc5",
   "metadata": {},
   "outputs": [],
   "source": [
    "niftybees = niftybees.astype(int)\n",
    "\n",
    "bankbees = bankbees.astype(int)\n",
    "\n",
    "goldbees = goldbees.astype(int)\n",
    "\n",
    "silverbees = silverbees.astype(int)\n",
    "\n",
    "itbees = itbees.astype(int)\n",
    "\n",
    "mon100 = mon100.astype(int)\n",
    "\n",
    "hngsngbees = hngsngbees.astype(int)"
   ]
  },
  {
   "cell_type": "code",
   "execution_count": 4,
   "id": "254ffdbc",
   "metadata": {},
   "outputs": [
    {
     "name": "stdout",
     "output_type": "stream",
     "text": [
      "\n",
      "Mean of numeric columns:\n",
      "269.31983805668017\n",
      "\n",
      "Variance of numeric columns:\n",
      "82.93818944745858\n"
     ]
    }
   ],
   "source": [
    "# Calculate mean and variance of Bitcoin\n",
    "mean_values = np.mean(niftybees, axis=0)\n",
    "variance_values = np.var(niftybees, axis=0)\n",
    "\n",
    "print(\"\\nMean of numeric columns:\")\n",
    "print(mean_values)\n",
    "\n",
    "print(\"\\nVariance of numeric columns:\")\n",
    "print(variance_values)"
   ]
  },
  {
   "cell_type": "code",
   "execution_count": 5,
   "id": "a0eaad6e",
   "metadata": {},
   "outputs": [
    {
     "name": "stdout",
     "output_type": "stream",
     "text": [
      "\n",
      "Mean of numeric columns:\n",
      "530.085020242915\n",
      "\n",
      "Variance of numeric columns:\n",
      "404.01301447327455\n"
     ]
    }
   ],
   "source": [
    "# Calculate mean and variance of Ehteruem\n",
    "mean_values = np.mean(bankbees, axis=0)\n",
    "variance_values = np.var(bankbees, axis=0)\n",
    "\n",
    "print(\"\\nMean of numeric columns:\")\n",
    "print(mean_values)\n",
    "\n",
    "print(\"\\nVariance of numeric columns:\")\n",
    "print(variance_values)"
   ]
  },
  {
   "cell_type": "code",
   "execution_count": 6,
   "id": "61f968e9",
   "metadata": {},
   "outputs": [
    {
     "name": "stdout",
     "output_type": "stream",
     "text": [
      "\n",
      "Mean of numeric columns:\n",
      "67.23481781376518\n",
      "\n",
      "Variance of numeric columns:\n",
      "47.62907112065422\n"
     ]
    }
   ],
   "source": [
    "# Calculate mean and variance of BNB\n",
    "mean_values = np.mean(goldbees, axis=0)\n",
    "variance_values = np.var(goldbees, axis=0)\n",
    "\n",
    "print(\"\\nMean of numeric columns:\")\n",
    "print(mean_values)\n",
    "\n",
    "print(\"\\nVariance of numeric columns:\")\n",
    "print(variance_values)"
   ]
  },
  {
   "cell_type": "code",
   "execution_count": 7,
   "id": "22c757b7",
   "metadata": {},
   "outputs": [
    {
     "name": "stdout",
     "output_type": "stream",
     "text": [
      "\n",
      "Mean of numeric columns:\n",
      "74.6850605652759\n",
      "\n",
      "Variance of numeric columns:\n",
      "141.3732223045416\n"
     ]
    }
   ],
   "source": [
    "# Calculate mean and variance of Solana\n",
    "mean_values = np.mean(silverbees, axis=0)\n",
    "variance_values = np.var(silverbees, axis=0)\n",
    "\n",
    "print(\"\\nMean of numeric columns:\")\n",
    "print(mean_values)\n",
    "\n",
    "print(\"\\nVariance of numeric columns:\")\n",
    "print(variance_values)"
   ]
  },
  {
   "cell_type": "code",
   "execution_count": 8,
   "id": "06952fbc",
   "metadata": {},
   "outputs": [
    {
     "name": "stdout",
     "output_type": "stream",
     "text": [
      "\n",
      "Mean of numeric columns:\n",
      "35.720053835800805\n",
      "\n",
      "Variance of numeric columns:\n",
      "36.898749929807146\n"
     ]
    }
   ],
   "source": [
    "# Calculate mean and variance of Shibu\n",
    "mean_values = np.mean(itbees, axis=0)\n",
    "variance_values = np.var(itbees, axis=0)\n",
    "\n",
    "print(\"\\nMean of numeric columns:\")\n",
    "print(mean_values)\n",
    "\n",
    "print(\"\\nVariance of numeric columns:\")\n",
    "print(variance_values)"
   ]
  },
  {
   "cell_type": "code",
   "execution_count": 9,
   "id": "cb9bc4db",
   "metadata": {},
   "outputs": [
    {
     "name": "stdout",
     "output_type": "stream",
     "text": [
      "\n",
      "Mean of numeric columns:\n",
      "136.3472409152086\n",
      "\n",
      "Variance of numeric columns:\n",
      "1238.91307112231\n"
     ]
    }
   ],
   "source": [
    "# Calculate mean and variance of Shibu\n",
    "mean_values = np.mean(mon100, axis=0)\n",
    "variance_values = np.var(mon100, axis=0)\n",
    "\n",
    "print(\"\\nMean of numeric columns:\")\n",
    "print(mean_values)\n",
    "\n",
    "print(\"\\nVariance of numeric columns:\")\n",
    "print(variance_values)"
   ]
  },
  {
   "cell_type": "code",
   "execution_count": 10,
   "id": "e2808487",
   "metadata": {},
   "outputs": [
    {
     "name": "stdout",
     "output_type": "stream",
     "text": [
      "\n",
      "Mean of numeric columns:\n",
      "297.31451612903226\n",
      "\n",
      "Variance of numeric columns:\n",
      "2263.358068851894\n"
     ]
    }
   ],
   "source": [
    "# Calculate mean and variance of Shibu\n",
    "mean_values = np.mean(hngsngbees, axis=0)\n",
    "variance_values = np.var(hngsngbees, axis=0)\n",
    "\n",
    "print(\"\\nMean of numeric columns:\")\n",
    "print(mean_values)\n",
    "\n",
    "print(\"\\nVariance of numeric columns:\")\n",
    "print(variance_values)"
   ]
  },
  {
   "cell_type": "code",
   "execution_count": 13,
   "id": "2b584e6b",
   "metadata": {},
   "outputs": [
    {
     "data": {
      "text/html": [
       "<div>\n",
       "<style scoped>\n",
       "    .dataframe tbody tr th:only-of-type {\n",
       "        vertical-align: middle;\n",
       "    }\n",
       "\n",
       "    .dataframe tbody tr th {\n",
       "        vertical-align: top;\n",
       "    }\n",
       "\n",
       "    .dataframe thead th {\n",
       "        text-align: right;\n",
       "    }\n",
       "</style>\n",
       "<table border=\"1\" class=\"dataframe\">\n",
       "  <thead>\n",
       "    <tr style=\"text-align: right;\">\n",
       "      <th></th>\n",
       "      <th>goldbees</th>\n",
       "      <th>bankbees</th>\n",
       "      <th>niftybees</th>\n",
       "    </tr>\n",
       "  </thead>\n",
       "  <tbody>\n",
       "    <tr>\n",
       "      <th>0</th>\n",
       "      <td>81</td>\n",
       "      <td>573</td>\n",
       "      <td>278</td>\n",
       "    </tr>\n",
       "    <tr>\n",
       "      <th>1</th>\n",
       "      <td>83</td>\n",
       "      <td>570</td>\n",
       "      <td>277</td>\n",
       "    </tr>\n",
       "    <tr>\n",
       "      <th>2</th>\n",
       "      <td>81</td>\n",
       "      <td>571</td>\n",
       "      <td>276</td>\n",
       "    </tr>\n",
       "    <tr>\n",
       "      <th>3</th>\n",
       "      <td>82</td>\n",
       "      <td>574</td>\n",
       "      <td>278</td>\n",
       "    </tr>\n",
       "    <tr>\n",
       "      <th>4</th>\n",
       "      <td>80</td>\n",
       "      <td>572</td>\n",
       "      <td>276</td>\n",
       "    </tr>\n",
       "    <tr>\n",
       "      <th>...</th>\n",
       "      <td>...</td>\n",
       "      <td>...</td>\n",
       "      <td>...</td>\n",
       "    </tr>\n",
       "    <tr>\n",
       "      <th>242</th>\n",
       "      <td>60</td>\n",
       "      <td>515</td>\n",
       "      <td>260</td>\n",
       "    </tr>\n",
       "    <tr>\n",
       "      <th>243</th>\n",
       "      <td>61</td>\n",
       "      <td>514</td>\n",
       "      <td>260</td>\n",
       "    </tr>\n",
       "    <tr>\n",
       "      <th>244</th>\n",
       "      <td>60</td>\n",
       "      <td>510</td>\n",
       "      <td>261</td>\n",
       "    </tr>\n",
       "    <tr>\n",
       "      <th>245</th>\n",
       "      <td>60</td>\n",
       "      <td>509</td>\n",
       "      <td>258</td>\n",
       "    </tr>\n",
       "    <tr>\n",
       "      <th>246</th>\n",
       "      <td>60</td>\n",
       "      <td>514</td>\n",
       "      <td>259</td>\n",
       "    </tr>\n",
       "  </tbody>\n",
       "</table>\n",
       "<p>247 rows × 3 columns</p>\n",
       "</div>"
      ],
      "text/plain": [
       "     goldbees  bankbees  niftybees\n",
       "0          81       573        278\n",
       "1          83       570        277\n",
       "2          81       571        276\n",
       "3          82       574        278\n",
       "4          80       572        276\n",
       "..        ...       ...        ...\n",
       "242        60       515        260\n",
       "243        61       514        260\n",
       "244        60       510        261\n",
       "245        60       509        258\n",
       "246        60       514        259\n",
       "\n",
       "[247 rows x 3 columns]"
      ]
     },
     "execution_count": 13,
     "metadata": {},
     "output_type": "execute_result"
    }
   ],
   "source": [
    "# Merging all Crypto Currencies in a DataFrame\n",
    "\n",
    "# df = pd.DataFrame({'niftybees':niftybees, 'bankbees': bankbees, 'goldbees':goldbees, 'silverbees': silverbees, 'itbees':itbees, 'mon100':mon100, 'hngsngbees':hngsngbees})\n",
    "# df = pd.DataFrame({'niftybees':niftybees, 'bankbees': bankbees, 'goldbees':goldbees, 'itbees':itbees})\n",
    "df = pd.DataFrame({'goldbees': goldbees, 'bankbees': bankbees, 'niftybees':niftybees})\n",
    "df"
   ]
  },
  {
   "cell_type": "code",
   "execution_count": 14,
   "id": "ce545db2",
   "metadata": {},
   "outputs": [
    {
     "name": "stdout",
     "output_type": "stream",
     "text": [
      "     goldbees  bankbees  niftybees\n",
      "1    0.024391 -0.005249  -0.003604\n",
      "2   -0.024391  0.001753  -0.003617\n",
      "3    0.012270  0.005240   0.007220\n",
      "4   -0.024693 -0.003490  -0.007220\n",
      "5   -0.012579  0.000000   0.010811\n",
      "..        ...       ...        ...\n",
      "242  0.000000  0.001944   0.000000\n",
      "243  0.016529 -0.001944   0.000000\n",
      "244 -0.016529 -0.007813   0.003839\n",
      "245  0.000000 -0.001963  -0.011561\n",
      "246  0.000000  0.009775   0.003868\n",
      "\n",
      "[246 rows x 3 columns]\n",
      "goldbees    -0.001220\n",
      "bankbees    -0.000442\n",
      "niftybees   -0.000288\n",
      "dtype: float64\n",
      "           goldbees  bankbees  niftybees\n",
      "goldbees   0.000250  0.000007  -0.000001\n",
      "bankbees   0.000007  0.000079   0.000043\n",
      "niftybees -0.000001  0.000043   0.000096\n",
      "3\n",
      "[0.33333333 0.33333333 0.33333333]\n"
     ]
    }
   ],
   "source": [
    "# 1. Calculate log returns\n",
    "log_returns = np.log(df / df.shift(1)).dropna()\n",
    "\n",
    "print(log_returns)\n",
    "\n",
    "# 2. Calculate mean returns and covariance matrix\n",
    "mean_returns = log_returns.mean()\n",
    "\n",
    "print(mean_returns)\n",
    "\n",
    "cov_matrix = log_returns.cov()\n",
    "\n",
    "print(cov_matrix)\n",
    "\n",
    "# 3. Number of assets\n",
    "num_assets = len(mean_returns)\n",
    "\n",
    "print(num_assets)\n",
    "\n",
    "# 4. Initial weights guess (equal weight)\n",
    "initial_weights = np.array([1/num_assets] * num_assets)\n",
    "# initial_weights = np.array([.5,.2,.15,.15])\n",
    "\n",
    "print(initial_weights)"
   ]
  },
  {
   "cell_type": "code",
   "execution_count": 15,
   "id": "773bcc1f",
   "metadata": {},
   "outputs": [],
   "source": [
    "# 5. Risk-free rate (e.g. 2% per annum)\n",
    "risk_free_rate = 0.015\n",
    "\n",
    "# 6. Define the negative Sharpe Ratio function\n",
    "def neg_sharpe_ratio(weights, mean_returns, cov_matrix, risk_free_rate):\n",
    "    portfolio_return = np.dot(weights, mean_returns) * 252  # annualized\n",
    "    portfolio_volatility = np.sqrt(np.dot(weights.T, np.dot(cov_matrix * 252, weights)))  # annualized\n",
    "    sharpe_ratio = (portfolio_return - risk_free_rate) / portfolio_volatility\n",
    "    return -sharpe_ratio  # we minimize negative Sharpe\n",
    "\n",
    "# 7. Constraints: weights sum to 1\n",
    "constraints = ({'type': 'eq', 'fun': lambda x: np.sum(x) - 1})\n",
    "\n",
    "# 8. Bounds: no short selling, so weights between 0 and 1\n",
    "bounds = tuple((0, 1) for _ in range(num_assets))\n",
    "\n",
    "# 9. Run optimization\n",
    "result = minimize(\n",
    "    neg_sharpe_ratio,\n",
    "    initial_weights,\n",
    "    args=(mean_returns, cov_matrix, risk_free_rate),\n",
    "    method='SLSQP',\n",
    "    bounds=bounds,\n",
    "    constraints=constraints\n",
    ")"
   ]
  },
  {
   "cell_type": "code",
   "execution_count": 16,
   "id": "8d669c08",
   "metadata": {},
   "outputs": [
    {
     "name": "stdout",
     "output_type": "stream",
     "text": [
      "\n",
      "Optimal Weights:\n",
      "goldbees: 0.0000\n",
      "bankbees: 0.0000\n",
      "niftybees: 1.0000\n",
      "\n",
      "Expected Annual Return: -7.25%\n",
      "Annual Volatility: 15.58%\n",
      "Sharpe Ratio: -0.56\n"
     ]
    }
   ],
   "source": [
    "# 10. Output results\n",
    "optimal_weights = result.x\n",
    "print(\"\\nOptimal Weights:\")\n",
    "for asset, weight in zip(df.columns, optimal_weights):\n",
    "    print(f\"{asset}: {weight:.4f}\")\n",
    "\n",
    "# Optional: Portfolio stats\n",
    "opt_return = np.dot(optimal_weights, mean_returns) * 252\n",
    "opt_volatility = np.sqrt(np.dot(optimal_weights.T, np.dot(cov_matrix * 252, optimal_weights)))\n",
    "opt_sharpe = (opt_return - risk_free_rate) / opt_volatility\n",
    "\n",
    "print(f\"\\nExpected Annual Return: {opt_return:.2%}\")\n",
    "print(f\"Annual Volatility: {opt_volatility:.2%}\")\n",
    "print(f\"Sharpe Ratio: {opt_sharpe:.2f}\")\n"
   ]
  },
  {
   "cell_type": "code",
   "execution_count": 17,
   "id": "ca1983d6",
   "metadata": {},
   "outputs": [
    {
     "data": {
      "image/png": "[encoded data removed]",
      "text/plain": [
       "<Figure size 1200x600 with 2 Axes>"
      ]
     },
     "metadata": {},
     "output_type": "display_data"
    }
   ],
   "source": [
    "import matplotlib.pyplot as plt\n",
    "\n",
    "# 1. Generate random portfolios\n",
    "num_portfolios = 5000\n",
    "results = np.zeros((3, num_portfolios))  # Rows: returns, volatility, Sharpe\n",
    "\n",
    "for i in range(num_portfolios):\n",
    "    weights = np.random.random(num_assets)\n",
    "    weights /= np.sum(weights)\n",
    "    \n",
    "    portfolio_return = np.dot(weights, mean_returns) * 252\n",
    "    portfolio_volatility = np.sqrt(np.dot(weights.T, np.dot(cov_matrix * 252, weights)))\n",
    "    sharpe_ratio = (portfolio_return - risk_free_rate) / portfolio_volatility\n",
    "    \n",
    "    results[0, i] = portfolio_return\n",
    "    results[1, i] = portfolio_volatility\n",
    "    results[2, i] = sharpe_ratio\n",
    "\n",
    "# 2. Plot Efficient Frontier\n",
    "plt.figure(figsize=(12, 6))\n",
    "plt.scatter(results[1], results[0], c=results[2], cmap='viridis', alpha=0.7)\n",
    "plt.colorbar(label='Sharpe Ratio')\n",
    "plt.xlabel('Volatility (Std Dev)')\n",
    "plt.ylabel('Expected Return')\n",
    "plt.title('Efficient Frontier')\n",
    "\n",
    "# 3. Highlight optimal portfolio\n",
    "plt.scatter(opt_volatility, opt_return, c='red', s=100, edgecolors='black', label='Max Sharpe Ratio')\n",
    "plt.legend()\n",
    "plt.grid(True)\n",
    "plt.show()"
   ]
  }
 ],
 "metadata": {
  "kernelspec": {
   "display_name": "Python 3 (ipykernel)",
   "language": "python",
   "name": "python3"
  },
  "language_info": {
   "codemirror_mode": {
    "name": "ipython",
    "version": 3
   },
   "file_extension": ".py",
   "mimetype": "text/x-python",
   "name": "python",
   "nbconvert_exporter": "python",
   "pygments_lexer": "ipython3",
   "version": "3.11.4"
  }
 },
 "nbformat": 4,
 "nbformat_minor": 5
}
